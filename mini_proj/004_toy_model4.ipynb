{
 "cells": [
  {
   "cell_type": "code",
   "execution_count": 1,
   "id": "c61f39e9",
   "metadata": {},
   "outputs": [],
   "source": [
    "from transformers import CLIPModel, CLIPProcessor\n",
    "from transformers import GPT2LMHeadModel, GPT2Tokenizer\n",
    "\n",
    "from datasets import load_dataset\n",
    "\n",
    "import torch\n",
    "import torch.nn.functional as F\n",
    "import torch.nn as nn\n",
    "from torch.optim import AdamW\n",
    "\n",
    "# from PIL import Image\n",
    "# import requests\n",
    "# import os\n",
    "# import matplotlib.pyplot as plt\n",
    "# import numpy as np"
   ]
  },
  {
   "cell_type": "code",
   "execution_count": 2,
   "id": "583cefe8",
   "metadata": {},
   "outputs": [],
   "source": [
    "###\n",
    "### set parameters\n",
    "###\n",
    "\n",
    "max_length = 512\n",
    "model_d = 512\n",
    "batch_size = 1\n",
    "prefix_length = 16\n",
    "lm_embed_v_dim = int(model_d//prefix_length)\n",
    "target_m_dim = 768"
   ]
  },
  {
   "cell_type": "code",
   "execution_count": 3,
   "id": "b098621c",
   "metadata": {},
   "outputs": [
    {
     "name": "stdout",
     "output_type": "stream",
     "text": [
      "768\n"
     ]
    }
   ],
   "source": [
    "###\n",
    "### define models\n",
    "###\n",
    "\n",
    "### encoder - convert raw img/txt to emb\n",
    "\n",
    "clip_m = CLIPModel.from_pretrained(\"openai/clip-vit-base-patch32\")\n",
    "\n",
    "# clip - vision model\n",
    "clip_m_v = clip_m.vision_model\n",
    "clip_m_v_proj = clip_m.visual_projection\n",
    "\n",
    "# clip - text model\n",
    "clip_m_t = clip_m.text_model\n",
    "clip_m_t_proj = clip_m.text_projection\n",
    "\n",
    "# clip - process both images and texts\n",
    "processor = CLIPProcessor.from_pretrained(\"openai/clip-vit-base-patch32\")\n",
    "\n",
    "# set lin projection model\n",
    "lin_m_v = nn.Linear(model_d, model_d)\n",
    "lin_m_t = nn.Linear(model_d, lm_embed_v_dim)\n",
    "lin_m_vt4dec = nn.Linear(lm_embed_v_dim, target_m_dim)\n",
    "\n",
    "### decoder - accept emb and do task\n",
    "\n",
    "dec_tokenizer = GPT2Tokenizer.from_pretrained(\"gpt2\")\n",
    "dec_model = GPT2LMHeadModel.from_pretrained(\"gpt2\")\n",
    "\n",
    "dec_tokenizer.pad_token = dec_tokenizer.eos_token # as pad_token is None\n",
    "dec_tokenizer.pad_token_id = dec_tokenizer.eos_token_id # add token id\n",
    "\n",
    "# Confirm embedding size\n",
    "print(dec_model.config.n_embd)  # 768 for GPT2-base"
   ]
  },
  {
   "cell_type": "code",
   "execution_count": 10,
   "id": "ce4d2b3d",
   "metadata": {},
   "outputs": [
    {
     "name": "stderr",
     "output_type": "stream",
     "text": [
      "Using the latest cached version of the module from /home/tsujimura/.cache/huggingface/modules/datasets_modules/datasets/nlphuji--flickr30k/6adb9ab2367c57c3e81e76ecaecb8047ea00c33dccf9da10455037f32ec43382 (last modified on Sun Jun 29 22:06:34 2025) since it couldn't be found locally at nlphuji/flickr30k, or remotely on the Hugging Face Hub.\n",
      "Repo card metadata block was not found. Setting CardData to empty.\n"
     ]
    }
   ],
   "source": [
    "###\n",
    "### load data\n",
    "###\n",
    "\n",
    "# # load text\n",
    "# # load image\n",
    "# text = [\"a photo of a cat\"]\n",
    "# url = \"http://images.cocodataset.org/val2017/000000039769.jpg\"\n",
    "# img = Image.open(requests.get(url, stream=True).raw)\n",
    "\n",
    "# # this causes error\n",
    "# dataset = load_dataset(\"nlphuji/flickr30k\")\n",
    "# UnicodeDecodeError: 'utf-8' codec can't decode byte 0xd0 in position 1: invalid continuation byte\n",
    "\n",
    "# Try the official dataset\n",
    "try:\n",
    "    dataset = load_dataset(\"nlphuji/flickr30k\", trust_remote_code=True)\n",
    "except UnicodeDecodeError:\n",
    "    # Fallback to alternative sources\n",
    "    try:\n",
    "        dataset = load_dataset(\"nlphuji/flickr30k\", encoding='latin-1', trust_remote_code=True)\n",
    "    except:\n",
    "        dataset = load_dataset(\"nlphuji/flickr30k\", encoding='cp1252', trust_remote_code=True)\n",
    "\n",
    "dataset = dataset[\"test\"]"
   ]
  },
  {
   "cell_type": "code",
   "execution_count": 11,
   "id": "7da4936a",
   "metadata": {},
   "outputs": [
    {
     "data": {
      "text/plain": [
       "Dataset({\n",
       "    features: ['image', 'caption', 'sentids', 'split', 'img_id', 'filename'],\n",
       "    num_rows: 31014\n",
       "})"
      ]
     },
     "execution_count": 11,
     "metadata": {},
     "output_type": "execute_result"
    }
   ],
   "source": [
    "dataset"
   ]
  },
  {
   "cell_type": "code",
   "execution_count": null,
   "id": "9e3d4c2f",
   "metadata": {},
   "outputs": [
    {
     "data": {
      "text/plain": [
       "{'image': <PIL.JpegImagePlugin.JpegImageFile image mode=RGB size=333x500>,\n",
       " 'caption': ['Two young guys with shaggy hair look at their hands while hanging out in the yard.',\n",
       "  'Two young, White males are outside near many bushes.',\n",
       "  'Two men in green shirts are standing in a yard.',\n",
       "  'A man in a blue shirt standing in a garden.',\n",
       "  'Two friends enjoy time spent together.'],\n",
       " 'sentids': ['0', '1', '2', '3', '4'],\n",
       " 'split': 'train',\n",
       " 'img_id': '0',\n",
       " 'filename': '1000092795.jpg'}"
      ]
     },
     "execution_count": 15,
     "metadata": {},
     "output_type": "execute_result"
    }
   ],
   "source": [
    "# let's say use only the first caption as training dataset for paried image for decoder model\n",
    "dataset[0]"
   ]
  },
  {
   "cell_type": "code",
   "execution_count": 6,
   "id": "5468d0eb",
   "metadata": {},
   "outputs": [],
   "source": [
    "# loss function and optimizer\n",
    "criterion = nn.CrossEntropyLoss(ignore_index=-100)  # commonly used for language modeling with padding\n",
    "optimizer = AdamW(dec_model.parameters(), lr=5e-5, weight_decay=0.01)"
   ]
  },
  {
   "cell_type": "code",
   "execution_count": null,
   "id": "96f88de3",
   "metadata": {},
   "outputs": [],
   "source": [
    "###\n",
    "### forward data\n",
    "###\n",
    "\n",
    "### encoder parts\n",
    "\n",
    "# convert image to emb\n",
    "inputs_v = processor(images=img, return_tensors=\"pt\").pixel_values\n",
    "outs_v1 = clip_m_v(inputs_v).pooler_output\n",
    "outs_v_fin = clip_m_v_proj(outs_v1)\n",
    "\n",
    "# projection layer\n",
    "projected_image_embed = lin_m_v(outs_v_fin)  # shape: (batch_size, prefix_length * lm_embed_dim)\n",
    "projected_image_embed = projected_image_embed.view(batch_size, prefix_length, lm_embed_v_dim)\n",
    "print(projected_image_embed.shape) # (batch_size, prefix_length, lm_embed_dim)\n",
    "\n",
    "# convert text to emb\n",
    "inputs_t = processor(text=text, return_tensors=\"pt\", padding=True)\n",
    "outs_t1 = clip_m_t(**inputs_t).last_hidden_state\n",
    "outs_t_fin = clip_m_t_proj(outs_t1) # shape: (batch_size, seq_len, lm_embed_dim)\n",
    "projected_text_embed = lin_m_t(outs_t_fin)  # shape: (batch_size, prefix_length * lm_embed_dim)\n",
    "print(projected_text_embed.shape)\n",
    "# outs_t_fin.shape # torch.Size([1, 7, 512])\n",
    "\n",
    "# Concatenate image prefix embeddings with token embeddings\n",
    "inputs_embeds = torch.cat([projected_image_embed, projected_text_embed], dim=1)\n",
    "# inputs_embeds.shape # [batch_size, img_seq+text_seq, model_d_sub]\n",
    "inputs_embeds4dec_m = lin_m_vt4dec(inputs_embeds)\n",
    "print(f\"final emb size from encoder {inputs_embeds4dec_m.shape}\") # torch.Size([1, 23, 768]) or [batch, img+txt, dec_dim]\n",
    "\n",
    "# Modify attention mask to accommodate prefix tokens\n",
    "prefix_attention_mask = torch.ones(batch_size, prefix_length) #.to(device)\n",
    "attention_mask = torch.cat([prefix_attention_mask, inputs_t.attention_mask], dim=1)\n",
    "\n",
    "# set label\n",
    "# Prepare labels\n",
    "text_with_eos = [dec_tokenizer.eos_token + t + dec_tokenizer.eos_token for t in text]  # '<|endoftext|>'\n",
    "labels = dec_tokenizer(text_with_eos, return_tensors=\"pt\", padding=True).input_ids\n",
    "# labels = dec_tokenizer(text, return_tensors=\"pt\", padding=True).input_ids\n",
    "\n",
    "# Pad labels to match full input length (prefix + text)\n",
    "# Set prefix part to -100 so loss is ignored there\n",
    "padding_labels = torch.full((batch_size, prefix_length), -100)  # ignore loss here\n",
    "labels = torch.cat([padding_labels, labels], dim=1)  # (batch_size, prefix_len + text_len)\n",
    "\n",
    "### decoder part\n",
    "\n",
    "out_dec = dec_model(\n",
    "    inputs_embeds=inputs_embeds4dec_m, \n",
    "    attention_mask=attention_mask, \n",
    "    labels=labels,  # this triggers loss computation\n",
    "    )\n"
   ]
  },
  {
   "cell_type": "code",
   "execution_count": null,
   "id": "cb282b91",
   "metadata": {},
   "outputs": [],
   "source": [
    "###\n",
    "### update loss\n",
    "###\n",
    "\n",
    "loss = out_dec.loss\n",
    "loss\n"
   ]
  },
  {
   "cell_type": "code",
   "execution_count": null,
   "id": "7cc259e9",
   "metadata": {},
   "outputs": [],
   "source": []
  }
 ],
 "metadata": {
  "kernelspec": {
   "display_name": "mlx802",
   "language": "python",
   "name": "python3"
  },
  "language_info": {
   "codemirror_mode": {
    "name": "ipython",
    "version": 3
   },
   "file_extension": ".py",
   "mimetype": "text/x-python",
   "name": "python",
   "nbconvert_exporter": "python",
   "pygments_lexer": "ipython3",
   "version": "3.11.10"
  }
 },
 "nbformat": 4,
 "nbformat_minor": 5
}
